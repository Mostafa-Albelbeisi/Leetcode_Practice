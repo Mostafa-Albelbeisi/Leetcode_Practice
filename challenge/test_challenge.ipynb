{
 "cells": [
  {
   "cell_type": "markdown",
   "metadata": {},
   "source": [
    "## Leet code\n",
    "\n",
    "For today you will be solving some selected challenges on leetcode, please create an account if you don't have then\n",
    "Follow the links below:\n",
    "read them carefully and solve them then copy-paste your solution below in Code Block\n"
   ]
  },
  {
   "cell_type": "markdown",
   "metadata": {},
   "source": [
    "### **Question-01**:\n",
    "-----\n"
   ]
  },
  {
   "cell_type": "markdown",
   "metadata": {},
   "source": [
    "##### [Roman-To-Integer](https://leetcode.com/problems/roman-to-integer/)\n",
    "\n",
    "Solution:\n"
   ]
  },
  {
   "cell_type": "code",
   "execution_count": 300,
   "metadata": {},
   "outputs": [],
   "source": [
    "class Solution:\n",
    "    def romanToInt(self, s: str) -> int:\n",
    "      mp = {'I':1, 'V':5, 'X':10, 'L':50, 'C':100,'D' :500, 'M':1000}\n",
    "      val = 0\n",
    "      i = len(s)-1      \n",
    "      while i > -1:\n",
    "        lasttwo = s[i-1:i+1]\n",
    "        if lasttwo in mp: \n",
    "          val = val + mp[lasttwo]\n",
    "          i -= 1     \n",
    "        elif s[i] in mp:\n",
    "          val = val + mp[s[i]]\n",
    "        i -= 1\n",
    "        \n",
    "      return val"
   ]
  },
  {
   "cell_type": "markdown",
   "metadata": {},
   "source": [
    "##### testing:"
   ]
  },
  {
   "cell_type": "code",
   "execution_count": 301,
   "metadata": {},
   "outputs": [],
   "source": [
    "\n",
    "assert  58  ==  romanToInt(\"LVIII\")\n",
    "assert 1994 ==  romanToInt(\"MCMXCIV\")\n",
    "assert 3    ==  romanToInt(\"III\")"
   ]
  },
  {
   "cell_type": "markdown",
   "metadata": {},
   "source": [
    "##### Big(O):"
   ]
  },
  {
   "cell_type": "markdown",
   "metadata": {},
   "source": [
    "## Time Complexity: \n",
    "O(n)\n",
    "\n",
    "\n",
    "## Space Complexity:\n",
    "O(n)"
   ]
  },
  {
   "cell_type": "markdown",
   "metadata": {},
   "source": [
    "### **Question-02**:\n",
    "--------"
   ]
  },
  {
   "cell_type": "markdown",
   "metadata": {},
   "source": [
    "##### [single-number](https://leetcode.com/problems/single-number/)\n",
    "\n",
    "Solution:\n"
   ]
  },
  {
   "cell_type": "code",
   "execution_count": 297,
   "metadata": {},
   "outputs": [],
   "source": [
    "# def singleNumber(arr):\n",
    "#     res = 0\n",
    "#     for i in arr:\n",
    "#         res ^= i\n",
    "#     return res\n",
    "\n",
    "class Solution:\n",
    "    def singleNumber(self, nums: 'List[int]') -> 'int':\n",
    "        res = 0\n",
    "        for i in nums:\n",
    "            res = res ^ i\n",
    "        return res\n"
   ]
  },
  {
   "cell_type": "markdown",
   "metadata": {},
   "source": [
    "##### testing:"
   ]
  },
  {
   "cell_type": "code",
   "execution_count": 296,
   "metadata": {},
   "outputs": [],
   "source": [
    "\n",
    "assert 1 ==  singleNumber([2,2,1])\n",
    "assert 4 ==  singleNumber([4,1,2,1,2])\n",
    "assert 1 ==  singleNumber([1])"
   ]
  },
  {
   "cell_type": "markdown",
   "metadata": {},
   "source": [
    "##### Big(O):"
   ]
  },
  {
   "cell_type": "markdown",
   "metadata": {},
   "source": [
    "# Time Complexity: \n",
    "O(n)\n",
    "\n",
    "\n",
    "# Space Complexity:\n",
    "O(n)"
   ]
  },
  {
   "cell_type": "markdown",
   "metadata": {},
   "source": [
    "### **Question-03**:\n",
    "------"
   ]
  },
  {
   "cell_type": "markdown",
   "metadata": {},
   "source": [
    "##### [Move Zeroes](https://leetcode.com/problems/move-zeroes/)\n",
    "\n",
    "Solution:\n"
   ]
  },
  {
   "cell_type": "code",
   "execution_count": 284,
   "metadata": {},
   "outputs": [],
   "source": [
    "# def moveZeroes(nums):\n",
    "#     zeroPlace=0\n",
    "#     for i in range(len(nums)):\n",
    "#         if nums[i]!=0:\n",
    "#             nums[zeroPlace], nums[i] = nums[i], nums[zeroPlace] \n",
    "#             zeroPlace += 1\n",
    "#     return nums\n",
    "\n",
    "class Solution:\n",
    "    def moveZeroes(self, nums):\n",
    "        i = 0\n",
    "        while i < nums.count(0):\n",
    "            nums.remove(0)\n",
    "            nums.append(0)\n",
    "            i += 1\n",
    "        return nums"
   ]
  },
  {
   "cell_type": "markdown",
   "metadata": {},
   "source": [
    "##### testing:"
   ]
  },
  {
   "cell_type": "code",
   "execution_count": 286,
   "metadata": {},
   "outputs": [],
   "source": [
    "assert[1,3,12,0,0]==  moveZeroes([0,1,0,3,12])\n",
    "assert [0] ==  moveZeroes([0])\n",
    "assert [3,2,4,0,0,0] ==  moveZeroes([0,3,0,0,2,4])"
   ]
  },
  {
   "cell_type": "markdown",
   "metadata": {},
   "source": [
    "##### Big(O):"
   ]
  },
  {
   "cell_type": "markdown",
   "metadata": {},
   "source": [
    "# Time Complexity: \n",
    "O(n)\n",
    "\n",
    "\n",
    "# Space Complexity:\n",
    "O(n)"
   ]
  },
  {
   "cell_type": "markdown",
   "metadata": {},
   "source": [
    "### **Question-04**:\n",
    "------"
   ]
  },
  {
   "cell_type": "markdown",
   "metadata": {},
   "source": [
    "##### [longest-common-prefix](https://leetcode.com/problems/longest-common-prefix/)\n",
    "\n",
    "Solution:\n"
   ]
  },
  {
   "cell_type": "code",
   "execution_count": 282,
   "metadata": {},
   "outputs": [],
   "source": [
    "class Solution(object):\n",
    "    def longestCommonPrefix(self, strs):\n",
    "        output = ''\n",
    "        tester = strs[0]\n",
    "        print([x[:len(tester)] for x in strs])\n",
    "        while True:\n",
    "            if all(tester == x[:len(tester)] for x in strs):\n",
    "                break\n",
    "            else:\n",
    "                tester = tester[:-1]\n",
    "        return tester\n",
    "\n",
    "    # def longestCommonPrefix(strs):\n",
    "    #  num = min(strs, key = len)\n",
    "    #  str = \"\"\n",
    "    #  for letter in range(len(num)): \n",
    "    #     for i in strs:\n",
    "    #         if i[letter] != num[letter]:\n",
    "    #             return str\n",
    "    #     str += num[letter]\n",
    "    #  return str "
   ]
  },
  {
   "cell_type": "markdown",
   "metadata": {},
   "source": [
    "##### testing:"
   ]
  },
  {
   "cell_type": "code",
   "execution_count": 283,
   "metadata": {},
   "outputs": [],
   "source": [
    "assert\"fl\"==  longestCommonPrefix([\"flower\",\"flow\",\"flight\"])\n",
    "assert  \"\" ==  longestCommonPrefix ([\"dog\",\"racecar\",\"car\"])\n",
    "assert \"tra\" ==  longestCommonPrefix([\"transform\",\"transcribe\",\"train\"])"
   ]
  },
  {
   "cell_type": "markdown",
   "metadata": {},
   "source": [
    "##### Big(O):"
   ]
  },
  {
   "cell_type": "markdown",
   "metadata": {},
   "source": [
    "# Time Complexity: \n",
    "O(n^2)\n",
    "\n",
    "\n",
    "# Space Complexity:\n",
    "O(n)"
   ]
  },
  {
   "cell_type": "markdown",
   "metadata": {},
   "source": []
  }
 ],
 "metadata": {
  "kernelspec": {
   "display_name": "Python 3.9.5 64-bit ('3.9.5')",
   "language": "python",
   "name": "python3"
  },
  "language_info": {
   "codemirror_mode": {
    "name": "ipython",
    "version": 3
   },
   "file_extension": ".py",
   "mimetype": "text/x-python",
   "name": "python",
   "nbconvert_exporter": "python",
   "pygments_lexer": "ipython3",
   "version": "3.9.5"
  },
  "orig_nbformat": 4,
  "vscode": {
   "interpreter": {
    "hash": "8e3b1a3bca19e386a75d28c0b6d223585cd4af841148e2f17d6f6fa2c6675f83"
   }
  }
 },
 "nbformat": 4,
 "nbformat_minor": 2
}
